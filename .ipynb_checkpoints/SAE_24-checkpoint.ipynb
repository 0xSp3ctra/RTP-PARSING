{
 "cells": [
  {
   "cell_type": "markdown",
   "metadata": {},
   "source": [
    "# SAE24 : PARSING RTP"
   ]
  },
  {
   "cell_type": "code",
   "execution_count": 18,
   "metadata": {},
   "outputs": [],
   "source": [
    "import os\n",
    "from scapy.all import *\n",
    "from scapy.layers.inet import IP, TCP, UDP\n",
    "import pyshark"
   ]
  },
  {
   "cell_type": "code",
   "execution_count": 34,
   "metadata": {},
   "outputs": [
    {
     "name": "stdout",
     "output_type": "stream",
     "text": [
      "INVITE sip:+4960339285361@84.146.135.221;user=phone;uniq=E04784589605A88765A939C2CA2A7 \n",
      "\n",
      "INVITE sip:+4960339285361@84.146.135.221;user=phone;uniq=E04784589605A88765A939C2CA2A7 \n",
      "\n",
      "INVITE sip:+4960339285361@84.146.135.221;user=phone;uniq=E04784589605A88765A939C2CA2A7 \n",
      "\n"
     ]
    }
   ],
   "source": [
    "fichier = rdpcap(\"interception.pcapng\")\n",
    "\n",
    "def infos_sip(fichier):\n",
    "\n",
    "    for pkt in fichier:\n",
    "        packet_strs = pkt[\"Raw\"].load.decode(\"latin1\")  \n",
    "\n",
    "        if \"INVITE sip\" in packet_strs:\n",
    "            invite = packet_strs.split()[0]\n",
    "            invite = invite + \" \" + packet_strs.split()[1]\n",
    "            print(invite, \"\\n\")\n",
    "\n",
    "        elif \"REGISTER sip\" in packet_strs:\n",
    "            register = packet_strs.split()[0]\n",
    "            register = register + \" \" + packet_strs.split()[1]\n",
    "            print(register, \"\\n\")\n",
    "\n",
    "        elif \"100 Trying\" in packet_strs:\n",
    "             trying = packet_strs[0:20]\n",
    "             print(trying, \"\\n\")\n",
    "\n",
    "        elif \"180 Ringing\" in packet_strs:\n",
    "              ringing = packet_strs[0:19]\n",
    "              print(ringing, \"\\n\")\n",
    "\n",
    "        elif \"200 OK\" in packet_strs:\n",
    "            ok = packet_strs[0:14]\n",
    "            print(ok, \"\\n\")\n",
    "\n",
    "        if \"BYE sip\" in packet_strs:\n",
    "            bye = packet_strs.split()[0]\n",
    "            bye = bye + \" \" + packet_strs.split()[1]\n",
    "            print(bye, \"\\n\")\n",
    "infos_sip(fichier)"
   ]
  },
  {
   "cell_type": "code",
   "execution_count": null,
   "metadata": {},
   "outputs": [],
   "source": []
  }
 ],
 "metadata": {
  "kernelspec": {
   "display_name": "Python 3 (ipykernel)",
   "language": "python",
   "name": "python3"
  },
  "language_info": {
   "codemirror_mode": {
    "name": "ipython",
    "version": 3
   },
   "file_extension": ".py",
   "mimetype": "text/x-python",
   "name": "python",
   "nbconvert_exporter": "python",
   "pygments_lexer": "ipython3",
   "version": "3.9.7"
  },
  "vscode": {
   "interpreter": {
    "hash": "2d6deec5b358f64e79de8ba8ae5576f107caf41e1a196a768b802c854262e998"
   }
  }
 },
 "nbformat": 4,
 "nbformat_minor": 2
}
